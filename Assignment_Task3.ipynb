{
  "nbformat": 4,
  "nbformat_minor": 0,
  "metadata": {
    "colab": {
      "name": "Task3.ipynb",
      "provenance": [],
      "collapsed_sections": []
    },
    "kernelspec": {
      "name": "python3",
      "display_name": "Python 3"
    },
    "language_info": {
      "name": "python"
    }
  },
  "cells": [
    {
      "cell_type": "markdown",
      "source": [
        "**Fuction related to(in-Build) in list**"
      ],
      "metadata": {
        "id": "498fT2mIThl9"
      }
    },
    {
      "cell_type": "code",
      "source": [
        "# 1.len(List)\n",
        "x = [1,2,3,\"Om Sai\",5]\n",
        "y = [6,7,\"Shri Swami Samarth\",9]\n",
        "\n",
        "print(\"Lenth of x:\",len(x))\n",
        "print(\"Lenth of y:\",len(y))\n",
        "\n",
        "\n",
        "# 2.max(list)\n",
        "x = [2,4,3]\n",
        "y = [39,59,100,101]\n",
        "\n",
        "print(\"Max of x:\",max(x))\n",
        "print(\"Max of y:\",max(y))\n",
        "\n",
        "# 3.min(list)\n",
        "x = [1,0,5]\n",
        "y = [99,999,9999]\n",
        "\n",
        "print(\"Min of x:\",min(x))\n",
        "print(\"Min of y:\",min(y))\n",
        "\n",
        "# 4.Reverse(list)\n",
        "x = [\"SHRI\",\"SWAMI\",\"SAMARTH\"]\n",
        "x.reverse()\n",
        "\n",
        "print(\"List of reverse:\",x)\n",
        "\n",
        "\n",
        "# 5.Remove(list)\n",
        "x = [1234,\"Om\",\"Shanti\",89]\n",
        "x.remove(1234)\n",
        "\n",
        "print(\"Remove the x\",x)\n",
        "\n",
        "\n"
      ],
      "metadata": {
        "colab": {
          "base_uri": "https://localhost:8080/"
        },
        "id": "P9a8E7LQTxnO",
        "outputId": "700c3205-afe7-4659-8f12-0042b672825b"
      },
      "execution_count": null,
      "outputs": [
        {
          "output_type": "stream",
          "name": "stdout",
          "text": [
            "Lenth of x: 5\n",
            "Lenth of y: 4\n",
            "Max of x: 4\n",
            "Max of y: 101\n",
            "Min of x: 0\n",
            "Min of y: 99\n",
            "List of reverse: ['SAMARTH', 'SWAMI', 'SHRI']\n",
            "Remove the x ['Om', 'Shanti', 89]\n"
          ]
        }
      ]
    },
    {
      "cell_type": "markdown",
      "source": [
        "**Function related to(Build-in)Tuple**"
      ],
      "metadata": {
        "id": "ZZUUHV9cl_IS"
      }
    },
    {
      "cell_type": "code",
      "source": [
        "# 1.len(tuple)\n",
        "x = (1,2,4,\"Hello\")\n",
        "y = (\"Hi\",6,7,8)\n",
        "\n",
        "print(\"Len of x:\",len(x))\n",
        "print(\"Len of y:\",len(y))\n",
        "\n",
        "\n",
        "# 2.Max(tuple)\n",
        "x = (2,3,5)\n",
        "y = (100,8,9)\n",
        "\n",
        "print(\"Max of x:\",max(x))\n",
        "print(\"Max of y:\",max(y))\n",
        "\n",
        "\n",
        "# 3.Min(tuple)\n",
        "x = (2,3,5,6,7)\n",
        "y = (7,8,9,0,3,4)\n",
        "\n",
        "print(\"Min of x:\",min(x))\n",
        "print(\"Min of y:\",min(y))\n",
        "\n",
        "\n",
        "# 4.seg(tuple)\n",
        "y = (4,5,2,1,9,3)\n",
        "\n",
        "a = tuple(y)\n",
        "print(\"Seg of tuple:\",a)"
      ],
      "metadata": {
        "colab": {
          "base_uri": "https://localhost:8080/"
        },
        "id": "Jiq-gSwAmOCs",
        "outputId": "b5f4640a-4ba5-4a77-b669-ef8f4d675e67"
      },
      "execution_count": null,
      "outputs": [
        {
          "output_type": "stream",
          "name": "stdout",
          "text": [
            "Len of x: 4\n",
            "Len of y: 4\n",
            "Max of x: 5\n",
            "Max of y: 100\n",
            "Min of x: 2\n",
            "Min of y: 0\n",
            "Seg of tuple: (4, 5, 2, 1, 9, 3)\n"
          ]
        }
      ]
    },
    {
      "cell_type": "markdown",
      "source": [
        "**Membership Test(in,not in) List**"
      ],
      "metadata": {
        "id": "1SzsYE0NDA95"
      }
    },
    {
      "cell_type": "code",
      "execution_count": null,
      "metadata": {
        "colab": {
          "base_uri": "https://localhost:8080/"
        },
        "id": "AMENRrXRCy-o",
        "outputId": "d7b84ca7-5a69-4251-a875-6d88ed894840"
      },
      "outputs": [
        {
          "output_type": "stream",
          "name": "stdout",
          "text": [
            "True\n"
          ]
        }
      ],
      "source": [
        "x = 4\n",
        "\n",
        "my_list = [1,3,4,6]\n",
        "print(x in my_list)"
      ]
    },
    {
      "cell_type": "code",
      "source": [
        "x = 36\n",
        "\n",
        "my_list = [30, 40, 50,60]\n",
        "print(x not in my_list)"
      ],
      "metadata": {
        "colab": {
          "base_uri": "https://localhost:8080/"
        },
        "id": "YfHMOlTHDzcd",
        "outputId": "570afecd-6042-4842-a973-b336f790cdc9"
      },
      "execution_count": null,
      "outputs": [
        {
          "output_type": "stream",
          "name": "stdout",
          "text": [
            "True\n"
          ]
        }
      ]
    },
    {
      "cell_type": "markdown",
      "source": [
        "**Membership(in, not in) Tuples**"
      ],
      "metadata": {
        "id": "npGya4LxEn_B"
      }
    },
    {
      "cell_type": "code",
      "source": [
        "x = (4,6,2)\n",
        "\n",
        "print(\"5 is in x:\", 5 in x)\n"
      ],
      "metadata": {
        "colab": {
          "base_uri": "https://localhost:8080/"
        },
        "id": "WnGBnh1wE-Nh",
        "outputId": "6f05c6c6-6ec8-45aa-b250-73501f9edf25"
      },
      "execution_count": null,
      "outputs": [
        {
          "output_type": "stream",
          "name": "stdout",
          "text": [
            "5 is in x: False\n"
          ]
        }
      ]
    },
    {
      "cell_type": "code",
      "source": [
        "x = (9,5,6)\n",
        "\n",
        "print(\"1 is not in x: \",1 not in x)"
      ],
      "metadata": {
        "colab": {
          "base_uri": "https://localhost:8080/"
        },
        "id": "TUlCLwL1Fyn2",
        "outputId": "2039f18b-c1ed-4d00-aa44-9c734a6cf5e4"
      },
      "execution_count": null,
      "outputs": [
        {
          "output_type": "stream",
          "name": "stdout",
          "text": [
            "1 is not in x:  True\n"
          ]
        }
      ]
    },
    {
      "cell_type": "markdown",
      "source": [
        "****"
      ],
      "metadata": {
        "id": "IO4Xw_bYGL9q"
      }
    },
    {
      "cell_type": "markdown",
      "source": [
        "**Membership(in, not in) Set**"
      ],
      "metadata": {
        "id": "XmEyOGdtGSVS"
      }
    },
    {
      "cell_type": "code",
      "source": [
        "x = {7, 8 , 9 ,0}\n",
        "print({7} in x)"
      ],
      "metadata": {
        "colab": {
          "base_uri": "https://localhost:8080/"
        },
        "id": "6kg_mrVIGXPi",
        "outputId": "aa6c9b1d-2499-40c8-c9d8-26aa2102b73d"
      },
      "execution_count": null,
      "outputs": [
        {
          "output_type": "stream",
          "name": "stdout",
          "text": [
            "False\n"
          ]
        }
      ]
    },
    {
      "cell_type": "code",
      "source": [
        "x = {5,8,7,1,0}\n",
        "print({10} not in x)"
      ],
      "metadata": {
        "colab": {
          "base_uri": "https://localhost:8080/"
        },
        "id": "_XNcPXhaH4h7",
        "outputId": "190a0cd4-cb45-4472-b12d-e50dfc8b01cb"
      },
      "execution_count": null,
      "outputs": [
        {
          "output_type": "stream",
          "name": "stdout",
          "text": [
            "True\n"
          ]
        }
      ]
    },
    {
      "cell_type": "markdown",
      "source": [
        "**Membership(in, not in) Dictionary**"
      ],
      "metadata": {
        "id": "Yvw4fc1wIXSZ"
      }
    },
    {
      "cell_type": "code",
      "source": [
        "x1 = {\"shinde\",\"maheshwari\",\"shivaji\"}\n",
        "x2 = {\"surname\",\"firstname\",\"lastname\"}\n",
        "\n",
        "print(\"firstname\" in x1)\n",
        "print(\"lastname\" not in x1)"
      ],
      "metadata": {
        "colab": {
          "base_uri": "https://localhost:8080/"
        },
        "id": "JexRcvHhIhd9",
        "outputId": "cba34040-8a23-4964-df39-82557905f49e"
      },
      "execution_count": null,
      "outputs": [
        {
          "output_type": "stream",
          "name": "stdout",
          "text": [
            "False\n",
            "True\n"
          ]
        }
      ]
    },
    {
      "cell_type": "markdown",
      "source": [
        "**Indexing List**"
      ],
      "metadata": {
        "id": "u-2zZQkZKNKX"
      }
    },
    {
      "cell_type": "code",
      "source": [
        "list = [\"Hello\",\"python\"]\n",
        "print(list.index(\"python\"))"
      ],
      "metadata": {
        "colab": {
          "base_uri": "https://localhost:8080/"
        },
        "id": "ZcT7ycZVKZBb",
        "outputId": "0816850f-962c-41a6-ac69-72fcf16c8d87"
      },
      "execution_count": null,
      "outputs": [
        {
          "output_type": "stream",
          "name": "stdout",
          "text": [
            "1\n"
          ]
        }
      ]
    },
    {
      "cell_type": "markdown",
      "source": [
        "**Indexing Tuples**"
      ],
      "metadata": {
        "id": "Nrh09kWALKT0"
      }
    },
    {
      "cell_type": "code",
      "source": [
        "Tuple = ('m','a','u')\n",
        "\n",
        "print(Tuple)\n",
        "\n",
        "x = Tuple.index(\"a\") #find index\n",
        "print(\"Index a is:\", x)"
      ],
      "metadata": {
        "colab": {
          "base_uri": "https://localhost:8080/"
        },
        "id": "Gns-BbVvLPMo",
        "outputId": "020c821d-b357-44ec-b962-cf280c39d208"
      },
      "execution_count": null,
      "outputs": [
        {
          "output_type": "stream",
          "name": "stdout",
          "text": [
            "('m', 'a', 'u')\n",
            "Index a is: 1\n"
          ]
        }
      ]
    },
    {
      "cell_type": "markdown",
      "source": [
        "**Indexing Dictionary**"
      ],
      "metadata": {
        "id": "s3m1iUVyM0mb"
      }
    },
    {
      "cell_type": "code",
      "source": [
        "dict = {}\n",
        "dict[\"m\"] = 1\n",
        "dict[\"a\"] = 9\n",
        "dict[\"u\"] = 3 \n",
        "x = list(dict.items())\n",
        "print(x[1])"
      ],
      "metadata": {
        "colab": {
          "base_uri": "https://localhost:8080/"
        },
        "id": "mauQtVHjM43B",
        "outputId": "0b8d59c5-0b38-44e0-b8c8-bec07418c3b6"
      },
      "execution_count": null,
      "outputs": [
        {
          "output_type": "stream",
          "name": "stdout",
          "text": [
            "('a', 9)\n"
          ]
        }
      ]
    },
    {
      "cell_type": "markdown",
      "source": [
        "**Negative Indexing list**"
      ],
      "metadata": {
        "id": "NujmkI4iTfWc"
      }
    },
    {
      "cell_type": "code",
      "source": [
        "x = [\"Python\"]\n",
        "print(x[-1])"
      ],
      "metadata": {
        "colab": {
          "base_uri": "https://localhost:8080/"
        },
        "id": "vHRGcADtTqLB",
        "outputId": "3442def4-5e2e-454a-d5f4-2f00e51f8dd9"
      },
      "execution_count": null,
      "outputs": [
        {
          "output_type": "stream",
          "name": "stdout",
          "text": [
            "Python\n"
          ]
        }
      ]
    },
    {
      "cell_type": "code",
      "source": [
        "y = \"g\",\"o\", \"o\", \"g\", \"l\", \"e\"\n",
        "print(y[-1])"
      ],
      "metadata": {
        "colab": {
          "base_uri": "https://localhost:8080/"
        },
        "id": "FRBLT2VWWPxB",
        "outputId": "1a8c7c94-10be-4b29-beb3-5c982c1607d5"
      },
      "execution_count": null,
      "outputs": [
        {
          "output_type": "stream",
          "name": "stdout",
          "text": [
            "e\n"
          ]
        }
      ]
    },
    {
      "cell_type": "markdown",
      "source": [
        "**Negative Indexing Tuples**"
      ],
      "metadata": {
        "id": "za9dqp-uWmbj"
      }
    },
    {
      "cell_type": "code",
      "source": [
        "tuple = (1,8,9,3,2,4)\n",
        "\n",
        "print(tuple[-2])"
      ],
      "metadata": {
        "colab": {
          "base_uri": "https://localhost:8080/"
        },
        "id": "43zDXrCiWwQG",
        "outputId": "ecca9a96-d61b-42d9-81f1-dc62a5840130"
      },
      "execution_count": null,
      "outputs": [
        {
          "output_type": "stream",
          "name": "stdout",
          "text": [
            "2\n"
          ]
        }
      ]
    },
    {
      "cell_type": "markdown",
      "source": [
        "**Negative Indexing Set**"
      ],
      "metadata": {
        "id": "chCvcENoXqx-"
      }
    },
    {
      "cell_type": "code",
      "source": [
        "x = (2,4,6,8,0)\n",
        "print(x)\n",
        "print(x[-1])"
      ],
      "metadata": {
        "id": "8SaB_RlHXxOe",
        "colab": {
          "base_uri": "https://localhost:8080/"
        },
        "outputId": "90288289-7120-43a4-e468-c94c8fdf9726"
      },
      "execution_count": null,
      "outputs": [
        {
          "output_type": "stream",
          "name": "stdout",
          "text": [
            "(2, 4, 6, 8, 0)\n",
            "0\n"
          ]
        }
      ]
    },
    {
      "cell_type": "markdown",
      "source": [
        "**Negative Indexing Dictionary**"
      ],
      "metadata": {
        "id": "lYyRBoM57s_r"
      }
    },
    {
      "cell_type": "code",
      "source": [
        "dict = \"Name\",\"Welcome\", \"command\",\"Hello\" ,\"Name:Bye\",\"Hi\"\n",
        "print(dict[-2])"
      ],
      "metadata": {
        "colab": {
          "base_uri": "https://localhost:8080/"
        },
        "id": "y0Jr4lv071_1",
        "outputId": "314bf208-ef1f-4921-d5cc-03764f36fab5"
      },
      "execution_count": null,
      "outputs": [
        {
          "output_type": "stream",
          "name": "stdout",
          "text": [
            "Name:Bye\n"
          ]
        }
      ]
    },
    {
      "cell_type": "markdown",
      "source": [
        "**Slicing List**"
      ],
      "metadata": {
        "id": "p2CKTuom8_xo"
      }
    },
    {
      "cell_type": "code",
      "source": [
        "list =[ 1,2,3,4,5,6,7,8,9]\n",
        "print(list[:3]) #Display sliced list\n",
        "print(list[3:9:2])\n",
        "print(list[::])\n",
        "print(list[3:9])"
      ],
      "metadata": {
        "colab": {
          "base_uri": "https://localhost:8080/"
        },
        "id": "wrafFgQy9MT2",
        "outputId": "2347bad9-e9c0-4440-8300-6719bbc50e27"
      },
      "execution_count": null,
      "outputs": [
        {
          "output_type": "stream",
          "name": "stdout",
          "text": [
            "[1, 2, 3]\n",
            "[4, 6, 8]\n",
            "[1, 2, 3, 4, 5, 6, 7, 8, 9]\n",
            "[4, 5, 6, 7, 8, 9]\n"
          ]
        }
      ]
    },
    {
      "cell_type": "markdown",
      "source": [
        "**Slicing Tuples**"
      ],
      "metadata": {
        "id": "1Ic633UgDlJo"
      }
    },
    {
      "cell_type": "code",
      "source": [
        "tuple = (22,3,45,4,2.4,2,56,890,1)\n",
        "print(tuple[1:4])\n",
        "print(tuple[:2])\n",
        "print(tuple[:])"
      ],
      "metadata": {
        "colab": {
          "base_uri": "https://localhost:8080/"
        },
        "id": "vx9YsPOuDqXI",
        "outputId": "28a2cb7d-267c-43d6-a4da-99b3ed317736"
      },
      "execution_count": null,
      "outputs": [
        {
          "output_type": "stream",
          "name": "stdout",
          "text": [
            "(3, 45, 4)\n",
            "(22, 3)\n",
            "(22, 3, 45, 4, 2.4, 2, 56, 890, 1)\n"
          ]
        }
      ]
    },
    {
      "cell_type": "markdown",
      "source": [
        "**Slicing Dictionary**"
      ],
      "metadata": {
        "id": "HmzgXr06enEj"
      }
    },
    {
      "cell_type": "code",
      "source": [
        "d = {‘a’:1, ‘b’:2, ‘c’:3}\n",
        "print(d['a']) "
      ],
      "metadata": {
        "colab": {
          "base_uri": "https://localhost:8080/",
          "height": 130
        },
        "id": "or3N-FWIeyFl",
        "outputId": "30272b10-1941-4c50-e737-63b2c1137ce0"
      },
      "execution_count": null,
      "outputs": [
        {
          "output_type": "error",
          "ename": "SyntaxError",
          "evalue": "ignored",
          "traceback": [
            "\u001b[0;36m  File \u001b[0;32m\"<ipython-input-6-b5dc94535dae>\"\u001b[0;36m, line \u001b[0;32m1\u001b[0m\n\u001b[0;31m    d = {‘a’:1, ‘b’:2, ‘c’:3}\u001b[0m\n\u001b[0m           ^\u001b[0m\n\u001b[0;31mSyntaxError\u001b[0m\u001b[0;31m:\u001b[0m invalid character in identifier\n"
          ]
        }
      ]
    },
    {
      "cell_type": "markdown",
      "source": [
        "**Iterating(for loop)List**"
      ],
      "metadata": {
        "id": "om0kieRigSDx"
      }
    },
    {
      "cell_type": "code",
      "source": [
        "list = [1,2,3,4,5]\n",
        "\n",
        "#using for loop\n",
        "for i in list:\n",
        "  print(i)\n",
        "\n"
      ],
      "metadata": {
        "colab": {
          "base_uri": "https://localhost:8080/"
        },
        "id": "ZsU4fQvZgfHg",
        "outputId": "eeb55d12-5d06-40a8-a1b4-9c8931adbb01"
      },
      "execution_count": null,
      "outputs": [
        {
          "output_type": "stream",
          "name": "stdout",
          "text": [
            "1\n",
            "2\n",
            "3\n",
            "4\n",
            "5\n"
          ]
        }
      ]
    },
    {
      "cell_type": "markdown",
      "source": [
        "**Iterating(for loop)Tuple**"
      ],
      "metadata": {
        "id": "VC4CcfZajSx1"
      }
    },
    {
      "cell_type": "code",
      "source": [
        "tuple = (\"Hi\",\"Python\",\"Bye\")\n",
        "\n",
        "for x in tuple:\n",
        "  print(x)"
      ],
      "metadata": {
        "colab": {
          "base_uri": "https://localhost:8080/"
        },
        "id": "-TeAdFyGjbZR",
        "outputId": "d2c8e1b2-0382-4b99-8122-dfc3d99f7bff"
      },
      "execution_count": null,
      "outputs": [
        {
          "output_type": "stream",
          "name": "stdout",
          "text": [
            "Hi\n",
            "Python\n",
            "Bye\n"
          ]
        }
      ]
    },
    {
      "cell_type": "markdown",
      "source": [
        "**Iterating(for loop)Set**"
      ],
      "metadata": {
        "id": "1mlQIXlfk8Jw"
      }
    },
    {
      "cell_type": "code",
      "source": [
        "x_set = set(\"ABCDEF\")\n",
        "#using for loop\n",
        "for val in x_set:\n",
        "  print(val)"
      ],
      "metadata": {
        "colab": {
          "base_uri": "https://localhost:8080/"
        },
        "id": "CLN34Cw0lCwN",
        "outputId": "a03efc0f-7a98-4289-ac31-784ee083595b"
      },
      "execution_count": null,
      "outputs": [
        {
          "output_type": "stream",
          "name": "stdout",
          "text": [
            "D\n",
            "C\n",
            "B\n",
            "F\n",
            "E\n",
            "A\n"
          ]
        }
      ]
    },
    {
      "cell_type": "markdown",
      "source": [
        "**Iterating(for loop)Dictionary**"
      ],
      "metadata": {
        "id": "bX5NwU5Nlw4x"
      }
    },
    {
      "cell_type": "code",
      "source": [
        "dict = {\"Name\":\"Maheshwari\", \"Std\":\"TYBTECH\",\"Div\":\"A\"}\n",
        "#print(\"Name\")\n",
        "for x in dict:\n",
        "   print(x)\n",
        "  "
      ],
      "metadata": {
        "colab": {
          "base_uri": "https://localhost:8080/"
        },
        "id": "skb6D-knl5IF",
        "outputId": "1cd95318-65d2-4238-f2c0-a9b94ab48da0"
      },
      "execution_count": null,
      "outputs": [
        {
          "output_type": "stream",
          "name": "stdout",
          "text": [
            "Name\n",
            "Std\n",
            "Div\n"
          ]
        }
      ]
    },
    {
      "cell_type": "markdown",
      "source": [
        "**Accessing Nested list using slicing**"
      ],
      "metadata": {
        "id": "KdqFFtTJ0K7b"
      }
    },
    {
      "cell_type": "code",
      "source": [
        "x = [[1,2,3],[4,5,6],[7,8,9]]\n",
        "print(\"original list\")\n",
        "print(x)\n",
        "print()\n",
        "\n",
        "print(\"from 1st position to 3rd position\")\n",
        "a = x[1:3]\n",
        "print(a)\n",
        "print()"
      ],
      "metadata": {
        "id": "I0AtpcNL0U4P",
        "colab": {
          "base_uri": "https://localhost:8080/"
        },
        "outputId": "8a3ecb71-05cf-4f35-b7b7-52b5d53c297c"
      },
      "execution_count": null,
      "outputs": [
        {
          "output_type": "stream",
          "name": "stdout",
          "text": [
            "original list\n",
            "[[1, 2, 3], [4, 5, 6], [7, 8, 9]]\n",
            "\n",
            "from 1st position to 3rd position\n",
            "[[4, 5, 6], [7, 8, 9]]\n",
            "\n"
          ]
        }
      ]
    },
    {
      "cell_type": "markdown",
      "source": [
        "**Accessing Nested Tuples using slicing**"
      ],
      "metadata": {
        "id": "RuWw1ubO5b8I"
      }
    },
    {
      "cell_type": "code",
      "source": [
        "x = (1,2,3,4)\n",
        "y = x,\"B\"\n",
        "z = \"A\", y,\"B\",\"C\"\n",
        "print (x)\n",
        "print(z)"
      ],
      "metadata": {
        "id": "1WsBvjLt5jM7",
        "colab": {
          "base_uri": "https://localhost:8080/"
        },
        "outputId": "dbc46c0c-9c27-48be-bd04-ea5ec3c07fd5"
      },
      "execution_count": null,
      "outputs": [
        {
          "output_type": "stream",
          "name": "stdout",
          "text": [
            "(1, 2, 3, 4)\n",
            "('A', ((1, 2, 3, 4), 'B'), 'B', 'C')\n"
          ]
        }
      ]
    },
    {
      "cell_type": "markdown",
      "source": [
        "**Accessing Nested Dictionary Using Slicing**"
      ],
      "metadata": {
        "id": "JVvtNVwwua-J"
      }
    },
    {
      "cell_type": "code",
      "source": [
        ""
      ],
      "metadata": {
        "id": "oMhxnNAJuqyx"
      },
      "execution_count": null,
      "outputs": []
    }
  ]
}